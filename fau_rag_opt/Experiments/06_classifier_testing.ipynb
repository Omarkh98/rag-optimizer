{
 "cells": [
  {
   "cell_type": "code",
   "execution_count": 14,
   "metadata": {},
   "outputs": [],
   "source": [
    "from joblib import load\n",
    "from sentence_transformers import SentenceTransformer"
   ]
  },
  {
   "cell_type": "code",
   "execution_count": 15,
   "metadata": {},
   "outputs": [],
   "source": [
    "queries_path = '../../fau_rag_opt/knowledgebase/extracted_queries.jsonl'\n",
    "model_path = '../../fau_rag_opt/classifiers/semantic_classifier_mlp.joblib'\n",
    "embedder = SentenceTransformer(\"sentence-transformers/all-mpnet-base-v2\")"
   ]
  },
  {
   "cell_type": "code",
   "execution_count": 16,
   "metadata": {},
   "outputs": [],
   "source": [
    "classifier = load(model_path)"
   ]
  },
  {
   "cell_type": "code",
   "execution_count": 17,
   "metadata": {},
   "outputs": [],
   "source": [
    "import random\n",
    "import json\n",
    "\n",
    "with open(queries_path, 'r') as file:\n",
    "    queries = [json.loads(line)[\"query\"] for line in file]"
   ]
  },
  {
   "cell_type": "code",
   "execution_count": 18,
   "metadata": {},
   "outputs": [],
   "source": [
    "sampled_queries = random.sample(queries, 10)"
   ]
  },
  {
   "cell_type": "code",
   "execution_count": 19,
   "metadata": {},
   "outputs": [
    {
     "name": "stderr",
     "output_type": "stream",
     "text": [
      "Batches: 100%|██████████| 1/1 [00:01<00:00,  1.21s/it]\n"
     ]
    }
   ],
   "source": [
    "X_sampled = embedder.encode(sampled_queries, show_progress_bar = True)\n",
    "predictions = classifier.predict(X_sampled)"
   ]
  },
  {
   "cell_type": "code",
   "execution_count": 20,
   "metadata": {},
   "outputs": [],
   "source": [
    "label_map = {0: \"dense\", 1: \"sparse\", 2: \"hybrid\"}\n",
    "results = [(query, label_map[pred]) for query, pred in zip(sampled_queries, predictions)]"
   ]
  },
  {
   "cell_type": "code",
   "execution_count": 21,
   "metadata": {},
   "outputs": [
    {
     "name": "stdout",
     "output_type": "stream",
     "text": [
      "🧠 \"What kind of courses does FAU offer for its students?\" → predicted: dense\n",
      "🧠 \"I've heard about natural skincare products causing allergies. Can you tell me more about this?\" → predicted: dense\n",
      "🧠 \"I've heard about FAU and its research projects. Can you tell me more about the research areas and projects at FAU?\" → predicted: dense\n",
      "🧠 \"I'm considering an international study or internship experience. What are some of the key things to keep in mind when preparing for such an opportunity?\" → predicted: dense\n",
      "🧠 \"I'm interested in learning more about the elective seminars offered in International Economic Studies. Can you tell me about the different topics and what students can expect to learn?\" → predicted: dense\n",
      "🧠 \"What kind of support does FAU offer for multimedia-related questions?\" → predicted: hybrid\n",
      "🧠 \"I've been wondering about the role of startups in the job market. Do they provide employment opportunities for disadvantaged workers?\" → predicted: dense\n",
      "🧠 \"I heard there's a big event coming up at FAU called the Nordbayerischer Versicherungstag. What's that about?\" → predicted: hybrid\n",
      "🧠 \"What kind of support is available for students starting their studies at FAU?\" → predicted: hybrid\n",
      "🧠 \"What kind of research is being conducted at the Chair of Biochemistry?\" → predicted: dense\n"
     ]
    }
   ],
   "source": [
    "for query, label in results:\n",
    "    print(f\"🧠 \\\"{query}\\\" → predicted: {label}\")"
   ]
  },
  {
   "cell_type": "code",
   "execution_count": null,
   "metadata": {},
   "outputs": [],
   "source": []
  }
 ],
 "metadata": {
  "kernelspec": {
   "display_name": "myvenv",
   "language": "python",
   "name": "python3"
  },
  "language_info": {
   "codemirror_mode": {
    "name": "ipython",
    "version": 3
   },
   "file_extension": ".py",
   "mimetype": "text/x-python",
   "name": "python",
   "nbconvert_exporter": "python",
   "pygments_lexer": "ipython3",
   "version": "3.13.1"
  },
  "orig_nbformat": 4
 },
 "nbformat": 4,
 "nbformat_minor": 2
}
