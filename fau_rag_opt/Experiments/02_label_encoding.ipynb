{
 "cells": [
  {
   "cell_type": "code",
   "execution_count": 52,
   "metadata": {},
   "outputs": [],
   "source": [
    "import numpy as np\n",
    "import pandas as pd\n",
    "import json"
   ]
  },
  {
   "cell_type": "code",
   "execution_count": 53,
   "metadata": {},
   "outputs": [],
   "source": [
    "file_path = '../knowledgebase/labeled_sampled_queries.jsonl'\n",
    "data = []"
   ]
  },
  {
   "cell_type": "code",
   "execution_count": 54,
   "metadata": {},
   "outputs": [],
   "source": [
    "with open(file_path, 'r', encoding = 'utf-8') as file:\n",
    "    for line in file:\n",
    "        data.append(json.loads(line))\n",
    "\n",
    "df = pd.DataFrame(data)"
   ]
  },
  {
   "cell_type": "code",
   "execution_count": 55,
   "metadata": {},
   "outputs": [
    {
     "data": {
      "text/html": [
       "<div>\n",
       "<style scoped>\n",
       "    .dataframe tbody tr th:only-of-type {\n",
       "        vertical-align: middle;\n",
       "    }\n",
       "\n",
       "    .dataframe tbody tr th {\n",
       "        vertical-align: top;\n",
       "    }\n",
       "\n",
       "    .dataframe thead th {\n",
       "        text-align: right;\n",
       "    }\n",
       "</style>\n",
       "<table border=\"1\" class=\"dataframe\">\n",
       "  <thead>\n",
       "    <tr style=\"text-align: right;\">\n",
       "      <th></th>\n",
       "      <th>id</th>\n",
       "      <th>query</th>\n",
       "      <th>label</th>\n",
       "    </tr>\n",
       "  </thead>\n",
       "  <tbody>\n",
       "    <tr>\n",
       "      <th>11314</th>\n",
       "      <td>e151a658-71d0-4aef-9a28-68ad281b4e44</td>\n",
       "      <td>I'm a student at FAU and I'm curious about the...</td>\n",
       "      <td>hybrid</td>\n",
       "    </tr>\n",
       "    <tr>\n",
       "      <th>6105</th>\n",
       "      <td>db046ee6-99e4-41de-9349-771d86958f4f</td>\n",
       "      <td>Can you tell me more about the structure and o...</td>\n",
       "      <td>hybrid</td>\n",
       "    </tr>\n",
       "    <tr>\n",
       "      <th>1396</th>\n",
       "      <td>263fc2c3-a892-4d99-905d-6817ddae8e42</td>\n",
       "      <td>I'm studying at Friedrich-Alexander-University...</td>\n",
       "      <td>hybrid</td>\n",
       "    </tr>\n",
       "    <tr>\n",
       "      <th>3361</th>\n",
       "      <td>62ea367d-6134-40d0-9d59-5ca6b857bd3d</td>\n",
       "      <td>I heard that Friedrich-Alexander-Universität h...</td>\n",
       "      <td>dense</td>\n",
       "    </tr>\n",
       "    <tr>\n",
       "      <th>2356</th>\n",
       "      <td>afbe4a12-cf20-4203-946c-a7b39f796df3</td>\n",
       "      <td>I heard that FAU has a strong research group i...</td>\n",
       "      <td>dense</td>\n",
       "    </tr>\n",
       "  </tbody>\n",
       "</table>\n",
       "</div>"
      ],
      "text/plain": [
       "                                         id  \\\n",
       "11314  e151a658-71d0-4aef-9a28-68ad281b4e44   \n",
       "6105   db046ee6-99e4-41de-9349-771d86958f4f   \n",
       "1396   263fc2c3-a892-4d99-905d-6817ddae8e42   \n",
       "3361   62ea367d-6134-40d0-9d59-5ca6b857bd3d   \n",
       "2356   afbe4a12-cf20-4203-946c-a7b39f796df3   \n",
       "\n",
       "                                                   query   label  \n",
       "11314  I'm a student at FAU and I'm curious about the...  hybrid  \n",
       "6105   Can you tell me more about the structure and o...  hybrid  \n",
       "1396   I'm studying at Friedrich-Alexander-University...  hybrid  \n",
       "3361   I heard that Friedrich-Alexander-Universität h...   dense  \n",
       "2356   I heard that FAU has a strong research group i...   dense  "
      ]
     },
     "execution_count": 55,
     "metadata": {},
     "output_type": "execute_result"
    }
   ],
   "source": [
    "df.sample(5)"
   ]
  },
  {
   "cell_type": "code",
   "execution_count": 56,
   "metadata": {},
   "outputs": [],
   "source": [
    "df.label = df.label.str.strip().str.replace('\\n','')\n",
    "df.label = df.label.str.rstrip('.')\n",
    "df.label = df.label.str.lower()\n",
    "df.label = df.label.str.replace('**', '', regex = False)\n",
    "df.label = df.label.str.replace('```', '', regex = False)"
   ]
  },
  {
   "cell_type": "code",
   "execution_count": 57,
   "metadata": {},
   "outputs": [
    {
     "data": {
      "text/plain": [
       "label\n",
       "dense     7524\n",
       "hybrid    3994\n",
       "sparse       8\n",
       "Name: count, dtype: int64"
      ]
     },
     "execution_count": 57,
     "metadata": {},
     "output_type": "execute_result"
    }
   ],
   "source": [
    "df.label.value_counts()"
   ]
  },
  {
   "cell_type": "code",
   "execution_count": 58,
   "metadata": {},
   "outputs": [],
   "source": [
    "label_map = {\n",
    "    \"dense\": 0,\n",
    "    \"sparse\": 1,\n",
    "    \"hybrid\": 2\n",
    "}"
   ]
  },
  {
   "cell_type": "code",
   "execution_count": 59,
   "metadata": {},
   "outputs": [],
   "source": [
    "df['label_encoded'] = df['label'].map(label_map)"
   ]
  },
  {
   "cell_type": "code",
   "execution_count": 60,
   "metadata": {},
   "outputs": [
    {
     "data": {
      "text/html": [
       "<div>\n",
       "<style scoped>\n",
       "    .dataframe tbody tr th:only-of-type {\n",
       "        vertical-align: middle;\n",
       "    }\n",
       "\n",
       "    .dataframe tbody tr th {\n",
       "        vertical-align: top;\n",
       "    }\n",
       "\n",
       "    .dataframe thead th {\n",
       "        text-align: right;\n",
       "    }\n",
       "</style>\n",
       "<table border=\"1\" class=\"dataframe\">\n",
       "  <thead>\n",
       "    <tr style=\"text-align: right;\">\n",
       "      <th></th>\n",
       "      <th>id</th>\n",
       "      <th>query</th>\n",
       "      <th>label</th>\n",
       "      <th>label_encoded</th>\n",
       "    </tr>\n",
       "  </thead>\n",
       "  <tbody>\n",
       "    <tr>\n",
       "      <th>7454</th>\n",
       "      <td>7f45b5ec-c1d0-4732-b169-5d41eac0fc7c</td>\n",
       "      <td>I'm studying at FAU and I'm trying to find som...</td>\n",
       "      <td>hybrid</td>\n",
       "      <td>2</td>\n",
       "    </tr>\n",
       "    <tr>\n",
       "      <th>2935</th>\n",
       "      <td>ffc97391-eba3-44d1-a440-5cfbf4c8abd7</td>\n",
       "      <td>What kind of academic programs does FAU offer ...</td>\n",
       "      <td>hybrid</td>\n",
       "      <td>2</td>\n",
       "    </tr>\n",
       "    <tr>\n",
       "      <th>4492</th>\n",
       "      <td>d30aeff2-5464-41c9-931f-26ee38c6e8e9</td>\n",
       "      <td>I've been hearing a lot about the use of chatb...</td>\n",
       "      <td>dense</td>\n",
       "      <td>0</td>\n",
       "    </tr>\n",
       "    <tr>\n",
       "      <th>6881</th>\n",
       "      <td>c022beee-c545-4397-b1c4-0f02fb2dbbff</td>\n",
       "      <td>I'm curious about the role of reading and writ...</td>\n",
       "      <td>dense</td>\n",
       "      <td>0</td>\n",
       "    </tr>\n",
       "    <tr>\n",
       "      <th>428</th>\n",
       "      <td>5ee29fff-69f6-4f66-9f9c-8c5932f95e06</td>\n",
       "      <td>I'm interested in understanding more about the...</td>\n",
       "      <td>dense</td>\n",
       "      <td>0</td>\n",
       "    </tr>\n",
       "  </tbody>\n",
       "</table>\n",
       "</div>"
      ],
      "text/plain": [
       "                                        id  \\\n",
       "7454  7f45b5ec-c1d0-4732-b169-5d41eac0fc7c   \n",
       "2935  ffc97391-eba3-44d1-a440-5cfbf4c8abd7   \n",
       "4492  d30aeff2-5464-41c9-931f-26ee38c6e8e9   \n",
       "6881  c022beee-c545-4397-b1c4-0f02fb2dbbff   \n",
       "428   5ee29fff-69f6-4f66-9f9c-8c5932f95e06   \n",
       "\n",
       "                                                  query   label  label_encoded  \n",
       "7454  I'm studying at FAU and I'm trying to find som...  hybrid              2  \n",
       "2935  What kind of academic programs does FAU offer ...  hybrid              2  \n",
       "4492  I've been hearing a lot about the use of chatb...   dense              0  \n",
       "6881  I'm curious about the role of reading and writ...   dense              0  \n",
       "428   I'm interested in understanding more about the...   dense              0  "
      ]
     },
     "execution_count": 60,
     "metadata": {},
     "output_type": "execute_result"
    }
   ],
   "source": [
    "df.sample(5)"
   ]
  },
  {
   "cell_type": "code",
   "execution_count": 61,
   "metadata": {},
   "outputs": [],
   "source": [
    "output_path = '../knowledgebase/labeled_encoded_queries.jsonl'\n",
    "df.to_json(output_path, orient = 'records', lines = True, force_ascii = False)"
   ]
  }
 ],
 "metadata": {
  "kernelspec": {
   "display_name": "myvenv",
   "language": "python",
   "name": "python3"
  },
  "language_info": {
   "codemirror_mode": {
    "name": "ipython",
    "version": 3
   },
   "file_extension": ".py",
   "mimetype": "text/x-python",
   "name": "python",
   "nbconvert_exporter": "python",
   "pygments_lexer": "ipython3",
   "version": "3.13.1"
  },
  "orig_nbformat": 4
 },
 "nbformat": 4,
 "nbformat_minor": 2
}
